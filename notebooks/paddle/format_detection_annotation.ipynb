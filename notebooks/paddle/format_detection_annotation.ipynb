{
 "cells": [
  {
   "cell_type": "code",
   "execution_count": 1,
   "id": "fed00228",
   "metadata": {},
   "outputs": [],
   "source": [
    "import json\n",
    "import glob\n",
    "import os\n",
    "import ast\n",
    "import tqdm"
   ]
  },
  {
   "cell_type": "code",
   "execution_count": 2,
   "id": "d0da7d3a",
   "metadata": {},
   "outputs": [
    {
     "name": "stdout",
     "output_type": "stream",
     "text": [
      "/Users/giakhang/dev/tma/health-monitor/notebooks/paddle\r\n"
     ]
    }
   ],
   "source": [
    "!pwd"
   ]
  },
  {
   "cell_type": "code",
   "execution_count": 6,
   "id": "91723324",
   "metadata": {},
   "outputs": [],
   "source": [
    "fps = []\n",
    "boxes = []\n",
    "\n",
    "with open('../../data/det_results.txt', 'r') as f:\n",
    "    for line in f:\n",
    "        fp = line.split('\\t')[0]\n",
    "        annot = ast.literal_eval(line.split('\\t')[-1][:-1])\n",
    "        fps.append(fp)\n",
    "        boxes.append(annot)"
   ]
  },
  {
   "cell_type": "code",
   "execution_count": 7,
   "id": "e2214a4c",
   "metadata": {},
   "outputs": [
    {
     "data": {
      "text/plain": [
       "[[[0.0, 167.0], [34.0, 150.0], [44.0, 170.0], [10.0, 187.0]],\n",
       " [[268.0, 139.0], [292.0, 132.0], [299.0, 154.0], [274.0, 161.0]],\n",
       " [[436.0, 84.0], [469.0, 68.0], [478.0, 85.0], [445.0, 102.0]],\n",
       " [[423.0, 62.0], [462.0, 40.0], [473.0, 57.0], [433.0, 80.0]]]"
      ]
     },
     "execution_count": 7,
     "metadata": {},
     "output_type": "execute_result"
    }
   ],
   "source": [
    "boxes[0]"
   ]
  },
  {
   "cell_type": "code",
   "execution_count": 8,
   "id": "ff0a0820",
   "metadata": {},
   "outputs": [],
   "source": [
    "with open('../../data/abc.txt', 'w') as f:\n",
    "    for fp, box in zip(fps, boxes):\n",
    "        annots = []\n",
    "        for b in box:\n",
    "            annot = {}\n",
    "            annot[\"transcription\"] = \"TEMPORARY\"\n",
    "            annot[\"points\"] = b\n",
    "            annot[\"difficult\"] = \"false\"\n",
    "            annots.append(annot)\n",
    "        f.write('{}\\t{}\\n'.format(fp, annots))"
   ]
  },
  {
   "cell_type": "code",
   "execution_count": null,
   "id": "9eded588",
   "metadata": {},
   "outputs": [],
   "source": []
  }
 ],
 "metadata": {
  "kernelspec": {
   "display_name": "health-monitor",
   "language": "python",
   "name": "health-monitor"
  },
  "language_info": {
   "codemirror_mode": {
    "name": "ipython",
    "version": 3
   },
   "file_extension": ".py",
   "mimetype": "text/x-python",
   "name": "python",
   "nbconvert_exporter": "python",
   "pygments_lexer": "ipython3",
   "version": "3.8.8"
  }
 },
 "nbformat": 4,
 "nbformat_minor": 5
}
