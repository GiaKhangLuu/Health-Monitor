{
 "cells": [
  {
   "cell_type": "code",
   "execution_count": 1,
   "id": "fed00228",
   "metadata": {},
   "outputs": [],
   "source": [
    "import json\n",
    "import glob\n",
    "import os\n",
    "import ast\n",
    "import tqdm"
   ]
  },
  {
   "cell_type": "code",
   "execution_count": 2,
   "id": "d0da7d3a",
   "metadata": {},
   "outputs": [
    {
     "name": "stdout",
     "output_type": "stream",
     "text": [
      "/Users/giakhang/dev/tma/health-monitor/notebooks/paddle\r\n"
     ]
    }
   ],
   "source": [
    "!pwd"
   ]
  },
  {
   "cell_type": "code",
   "execution_count": 3,
   "id": "91723324",
   "metadata": {},
   "outputs": [
    {
     "ename": "FileNotFoundError",
     "evalue": "[Errno 2] No such file or directory: '../data/screen_data_051222/det_results.txt'",
     "output_type": "error",
     "traceback": [
      "\u001b[0;31m---------------------------------------------------------------------------\u001b[0m",
      "\u001b[0;31mFileNotFoundError\u001b[0m                         Traceback (most recent call last)",
      "Cell \u001b[0;32mIn [3], line 4\u001b[0m\n\u001b[1;32m      1\u001b[0m fps \u001b[38;5;241m=\u001b[39m []\n\u001b[1;32m      2\u001b[0m boxes \u001b[38;5;241m=\u001b[39m []\n\u001b[0;32m----> 4\u001b[0m \u001b[38;5;28;01mwith\u001b[39;00m \u001b[38;5;28mopen\u001b[39m(\u001b[38;5;124m'\u001b[39m\u001b[38;5;124m../data/screen_data_051222/det_results.txt\u001b[39m\u001b[38;5;124m'\u001b[39m, \u001b[38;5;124m'\u001b[39m\u001b[38;5;124mr\u001b[39m\u001b[38;5;124m'\u001b[39m) \u001b[38;5;28;01mas\u001b[39;00m f:\n\u001b[1;32m      5\u001b[0m     \u001b[38;5;28;01mfor\u001b[39;00m line \u001b[38;5;129;01min\u001b[39;00m f:\n\u001b[1;32m      6\u001b[0m         fp \u001b[38;5;241m=\u001b[39m line\u001b[38;5;241m.\u001b[39msplit(\u001b[38;5;124m'\u001b[39m\u001b[38;5;130;01m\\t\u001b[39;00m\u001b[38;5;124m'\u001b[39m)[\u001b[38;5;241m0\u001b[39m]\n",
      "\u001b[0;31mFileNotFoundError\u001b[0m: [Errno 2] No such file or directory: '../data/screen_data_051222/det_results.txt'"
     ]
    }
   ],
   "source": [
    "fps = []\n",
    "boxes = []\n",
    "\n",
    "with open('../data/screen_data_051222/det_results.txt', 'r') as f:\n",
    "    for line in f:\n",
    "        fp = line.split('\\t')[0]\n",
    "        annot = ast.literal_eval(line.split('\\t')[-1][:-1])\n",
    "        fps.append(fp)\n",
    "        boxes.append(annot)"
   ]
  },
  {
   "cell_type": "code",
   "execution_count": 80,
   "id": "e2214a4c",
   "metadata": {},
   "outputs": [
    {
     "data": {
      "text/plain": [
       "[[[1338.0, 1456.0], [1444.0, 1456.0], [1444.0, 1510.0], [1338.0, 1510.0]],\n",
       " [[946.0, 1382.0], [1060.0, 1382.0], [1060.0, 1464.0], [946.0, 1464.0]],\n",
       " [[1334.0, 1386.0], [1452.0, 1386.0], [1452.0, 1436.0], [1334.0, 1436.0]],\n",
       " [[791.0, 1381.0], [907.0, 1372.0], [911.0, 1424.0], [795.0, 1433.0]],\n",
       " [[565.0, 1350.0], [824.0, 1373.0], [815.0, 1474.0], [556.0, 1451.0]],\n",
       " [[288.0, 1132.0], [472.0, 1132.0], [472.0, 1182.0], [288.0, 1182.0]],\n",
       " [[1324.0, 1120.0], [1486.0, 1120.0], [1486.0, 1192.0], [1324.0, 1192.0]],\n",
       " [[188.0, 460.0], [394.0, 460.0], [394.0, 502.0], [188.0, 502.0]],\n",
       " [[1462.0, 434.0], [1806.0, 434.0], [1806.0, 490.0], [1462.0, 490.0]],\n",
       " [[1480.0, 362.0], [1784.0, 362.0], [1784.0, 418.0], [1480.0, 418.0]],\n",
       " [[258.0, 372.0], [280.0, 372.0], [280.0, 388.0], [258.0, 388.0]],\n",
       " [[903.0, 339.0], [997.0, 351.0], [993.0, 385.0], [899.0, 373.0]],\n",
       " [[1466.0, 238.0], [1796.0, 242.0], [1796.0, 290.0], [1466.0, 286.0]],\n",
       " [[924.0, 212.0], [994.0, 212.0], [994.0, 226.0], [924.0, 226.0]],\n",
       " [[1442.0, 134.0], [1824.0, 134.0], [1824.0, 224.0], [1442.0, 224.0]],\n",
       " [[79.0, 48.0], [530.0, 58.0], [521.0, 450.0], [70.0, 440.0]]]"
      ]
     },
     "execution_count": 80,
     "metadata": {},
     "output_type": "execute_result"
    }
   ],
   "source": [
    "boxes[0]"
   ]
  },
  {
   "cell_type": "code",
   "execution_count": 88,
   "id": "ff0a0820",
   "metadata": {},
   "outputs": [],
   "source": [
    "with open('../data/abc.txt', 'w') as f:\n",
    "    for fp, box in zip(fps, boxes):\n",
    "        annots = []\n",
    "        for b in box:\n",
    "            annot = {}\n",
    "            annot['transcription'] = \"TEMPORARY\"\n",
    "            annot['points'] = b\n",
    "            annot['difficult'] = 'false'\n",
    "            annots.append(annot)\n",
    "        f.write('{}\\t{}\\n'.format(fp, annots))"
   ]
  },
  {
   "cell_type": "code",
   "execution_count": null,
   "id": "9eded588",
   "metadata": {},
   "outputs": [],
   "source": []
  }
 ],
 "metadata": {
  "kernelspec": {
   "display_name": "health-monitor",
   "language": "python",
   "name": "health-monitor"
  },
  "language_info": {
   "codemirror_mode": {
    "name": "ipython",
    "version": 3
   },
   "file_extension": ".py",
   "mimetype": "text/x-python",
   "name": "python",
   "nbconvert_exporter": "python",
   "pygments_lexer": "ipython3",
   "version": "3.8.8"
  }
 },
 "nbformat": 4,
 "nbformat_minor": 5
}
